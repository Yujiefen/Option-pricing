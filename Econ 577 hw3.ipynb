{
 "cells": [
  {
   "cell_type": "code",
   "execution_count": 3,
   "id": "565c8ba9",
   "metadata": {},
   "outputs": [],
   "source": [
    "import scipy as sp\n",
    "from scipy.stats import norm\n",
    "from matplotlib import pyplot as plt\n",
    "import numpy as np\n",
    "import pandas as pd\n",
    "from pandas.tseries.offsets import MonthEnd\n",
    "import statsmodels.formula.api as sm\n",
    "import datetime as dt\n",
    "import matplotlib.dates as mdates\n",
    "import math\n",
    "import sys"
   ]
  },
  {
   "cell_type": "markdown",
   "id": "a2346f3b",
   "metadata": {},
   "source": [
    "## Part One"
   ]
  },
  {
   "cell_type": "markdown",
   "id": "aa7abfa3",
   "metadata": {},
   "source": [
    "### Read csv"
   ]
  },
  {
   "cell_type": "code",
   "execution_count": 4,
   "id": "6698f0c3",
   "metadata": {},
   "outputs": [],
   "source": [
    "df = pd.read_csv('/Users/fengyujie/Desktop/ETF Time Series Index Returns.csv',\n",
    "                 index_col=0,skiprows=6,names=['Dates','IVV','GOVT','IAU','HYG','EEM'],nrows=119)"
   ]
  },
  {
   "cell_type": "markdown",
   "id": "c8c833c3",
   "metadata": {},
   "source": [
    "### Convert the total return factors into monthly total returns"
   ]
  },
  {
   "cell_type": "code",
   "execution_count": 5,
   "id": "1e8a65ec",
   "metadata": {},
   "outputs": [
    {
     "data": {
      "text/html": [
       "<div>\n",
       "<style scoped>\n",
       "    .dataframe tbody tr th:only-of-type {\n",
       "        vertical-align: middle;\n",
       "    }\n",
       "\n",
       "    .dataframe tbody tr th {\n",
       "        vertical-align: top;\n",
       "    }\n",
       "\n",
       "    .dataframe thead th {\n",
       "        text-align: right;\n",
       "    }\n",
       "</style>\n",
       "<table border=\"1\" class=\"dataframe\">\n",
       "  <thead>\n",
       "    <tr style=\"text-align: right;\">\n",
       "      <th></th>\n",
       "      <th>IVV</th>\n",
       "      <th>GOVT</th>\n",
       "      <th>IAU</th>\n",
       "      <th>HYG</th>\n",
       "      <th>EEM</th>\n",
       "    </tr>\n",
       "    <tr>\n",
       "      <th>Dates</th>\n",
       "      <th></th>\n",
       "      <th></th>\n",
       "      <th></th>\n",
       "      <th></th>\n",
       "      <th></th>\n",
       "    </tr>\n",
       "  </thead>\n",
       "  <tbody>\n",
       "    <tr>\n",
       "      <th>2/29/12</th>\n",
       "      <td>NaN</td>\n",
       "      <td>NaN</td>\n",
       "      <td>NaN</td>\n",
       "      <td>NaN</td>\n",
       "      <td>NaN</td>\n",
       "    </tr>\n",
       "    <tr>\n",
       "      <th>3/30/12</th>\n",
       "      <td>0.032905</td>\n",
       "      <td>-0.007655</td>\n",
       "      <td>-0.012743</td>\n",
       "      <td>-0.009517</td>\n",
       "      <td>-0.031243</td>\n",
       "    </tr>\n",
       "    <tr>\n",
       "      <th>4/30/12</th>\n",
       "      <td>-0.006586</td>\n",
       "      <td>0.012923</td>\n",
       "      <td>-0.002459</td>\n",
       "      <td>0.011374</td>\n",
       "      <td>-0.016998</td>\n",
       "    </tr>\n",
       "    <tr>\n",
       "      <th>5/31/12</th>\n",
       "      <td>-0.060094</td>\n",
       "      <td>0.019961</td>\n",
       "      <td>-0.062847</td>\n",
       "      <td>-0.032215</td>\n",
       "      <td>-0.106953</td>\n",
       "    </tr>\n",
       "    <tr>\n",
       "      <th>6/29/12</th>\n",
       "      <td>0.042029</td>\n",
       "      <td>-0.005168</td>\n",
       "      <td>0.023011</td>\n",
       "      <td>0.046626</td>\n",
       "      <td>0.050971</td>\n",
       "    </tr>\n",
       "    <tr>\n",
       "      <th>...</th>\n",
       "      <td>...</td>\n",
       "      <td>...</td>\n",
       "      <td>...</td>\n",
       "      <td>...</td>\n",
       "      <td>...</td>\n",
       "    </tr>\n",
       "    <tr>\n",
       "      <th>8/31/21</th>\n",
       "      <td>0.030222</td>\n",
       "      <td>-0.001015</td>\n",
       "      <td>-0.000868</td>\n",
       "      <td>0.006094</td>\n",
       "      <td>0.015698</td>\n",
       "    </tr>\n",
       "    <tr>\n",
       "      <th>9/30/21</th>\n",
       "      <td>-0.046844</td>\n",
       "      <td>-0.010709</td>\n",
       "      <td>-0.032436</td>\n",
       "      <td>-0.003703</td>\n",
       "      <td>-0.038734</td>\n",
       "    </tr>\n",
       "    <tr>\n",
       "      <th>10/29/21</th>\n",
       "      <td>0.070029</td>\n",
       "      <td>-0.000722</td>\n",
       "      <td>0.015564</td>\n",
       "      <td>-0.003110</td>\n",
       "      <td>0.010718</td>\n",
       "    </tr>\n",
       "    <tr>\n",
       "      <th>11/30/21</th>\n",
       "      <td>-0.007289</td>\n",
       "      <td>0.006085</td>\n",
       "      <td>-0.007368</td>\n",
       "      <td>-0.011686</td>\n",
       "      <td>-0.040847</td>\n",
       "    </tr>\n",
       "    <tr>\n",
       "      <th>12/31/21</th>\n",
       "      <td>0.045649</td>\n",
       "      <td>0.003594</td>\n",
       "      <td>0.033551</td>\n",
       "      <td>0.022841</td>\n",
       "      <td>0.015291</td>\n",
       "    </tr>\n",
       "  </tbody>\n",
       "</table>\n",
       "<p>119 rows × 5 columns</p>\n",
       "</div>"
      ],
      "text/plain": [
       "               IVV      GOVT       IAU       HYG       EEM\n",
       "Dates                                                     \n",
       "2/29/12        NaN       NaN       NaN       NaN       NaN\n",
       "3/30/12   0.032905 -0.007655 -0.012743 -0.009517 -0.031243\n",
       "4/30/12  -0.006586  0.012923 -0.002459  0.011374 -0.016998\n",
       "5/31/12  -0.060094  0.019961 -0.062847 -0.032215 -0.106953\n",
       "6/29/12   0.042029 -0.005168  0.023011  0.046626  0.050971\n",
       "...            ...       ...       ...       ...       ...\n",
       "8/31/21   0.030222 -0.001015 -0.000868  0.006094  0.015698\n",
       "9/30/21  -0.046844 -0.010709 -0.032436 -0.003703 -0.038734\n",
       "10/29/21  0.070029 -0.000722  0.015564 -0.003110  0.010718\n",
       "11/30/21 -0.007289  0.006085 -0.007368 -0.011686 -0.040847\n",
       "12/31/21  0.045649  0.003594  0.033551  0.022841  0.015291\n",
       "\n",
       "[119 rows x 5 columns]"
      ]
     },
     "execution_count": 5,
     "metadata": {},
     "output_type": "execute_result"
    }
   ],
   "source": [
    "returns = df.pct_change()\n",
    "returns"
   ]
  },
  {
   "cell_type": "markdown",
   "id": "59e7fad5",
   "metadata": {},
   "source": [
    "### Create time series index"
   ]
  },
  {
   "cell_type": "code",
   "execution_count": 6,
   "id": "976edb7e",
   "metadata": {},
   "outputs": [
    {
     "data": {
      "text/plain": [
       "IVV     float64\n",
       "GOVT    float64\n",
       "IAU     float64\n",
       "HYG     float64\n",
       "EEM     float64\n",
       "dtype: object"
      ]
     },
     "execution_count": 6,
     "metadata": {},
     "output_type": "execute_result"
    }
   ],
   "source": [
    "df.head()\n",
    "df.dtypes"
   ]
  },
  {
   "cell_type": "code",
   "execution_count": 7,
   "id": "d9c1fd9f",
   "metadata": {},
   "outputs": [
    {
     "data": {
      "text/html": [
       "<div>\n",
       "<style scoped>\n",
       "    .dataframe tbody tr th:only-of-type {\n",
       "        vertical-align: middle;\n",
       "    }\n",
       "\n",
       "    .dataframe tbody tr th {\n",
       "        vertical-align: top;\n",
       "    }\n",
       "\n",
       "    .dataframe thead th {\n",
       "        text-align: right;\n",
       "    }\n",
       "</style>\n",
       "<table border=\"1\" class=\"dataframe\">\n",
       "  <thead>\n",
       "    <tr style=\"text-align: right;\">\n",
       "      <th></th>\n",
       "      <th>IVV</th>\n",
       "      <th>GOVT</th>\n",
       "      <th>IAU</th>\n",
       "      <th>HYG</th>\n",
       "      <th>EEM</th>\n",
       "    </tr>\n",
       "    <tr>\n",
       "      <th>index</th>\n",
       "      <th></th>\n",
       "      <th></th>\n",
       "      <th></th>\n",
       "      <th></th>\n",
       "      <th></th>\n",
       "    </tr>\n",
       "  </thead>\n",
       "  <tbody>\n",
       "    <tr>\n",
       "      <th>1</th>\n",
       "      <td>137.3200</td>\n",
       "      <td>24.8200</td>\n",
       "      <td>32.96</td>\n",
       "      <td>92.6425</td>\n",
       "      <td>44.3300</td>\n",
       "    </tr>\n",
       "    <tr>\n",
       "      <th>2</th>\n",
       "      <td>141.8385</td>\n",
       "      <td>24.6300</td>\n",
       "      <td>32.54</td>\n",
       "      <td>91.7608</td>\n",
       "      <td>42.9450</td>\n",
       "    </tr>\n",
       "    <tr>\n",
       "      <th>3</th>\n",
       "      <td>140.9044</td>\n",
       "      <td>24.9483</td>\n",
       "      <td>32.46</td>\n",
       "      <td>92.8045</td>\n",
       "      <td>42.2150</td>\n",
       "    </tr>\n",
       "    <tr>\n",
       "      <th>4</th>\n",
       "      <td>132.4369</td>\n",
       "      <td>25.4463</td>\n",
       "      <td>30.42</td>\n",
       "      <td>89.8148</td>\n",
       "      <td>37.7000</td>\n",
       "    </tr>\n",
       "    <tr>\n",
       "      <th>5</th>\n",
       "      <td>138.0031</td>\n",
       "      <td>25.3148</td>\n",
       "      <td>31.12</td>\n",
       "      <td>94.0025</td>\n",
       "      <td>39.6216</td>\n",
       "    </tr>\n",
       "  </tbody>\n",
       "</table>\n",
       "</div>"
      ],
      "text/plain": [
       "            IVV     GOVT    IAU      HYG      EEM\n",
       "index                                            \n",
       "1      137.3200  24.8200  32.96  92.6425  44.3300\n",
       "2      141.8385  24.6300  32.54  91.7608  42.9450\n",
       "3      140.9044  24.9483  32.46  92.8045  42.2150\n",
       "4      132.4369  25.4463  30.42  89.8148  37.7000\n",
       "5      138.0031  25.3148  31.12  94.0025  39.6216"
      ]
     },
     "execution_count": 7,
     "metadata": {},
     "output_type": "execute_result"
    }
   ],
   "source": [
    "df['index'] = range(1, len(df) + 1)\n",
    "df.set_index('index',inplace=True)\n",
    "df.head()"
   ]
  },
  {
   "cell_type": "markdown",
   "id": "11afc57e",
   "metadata": {},
   "source": [
    "### Plot ETFs"
   ]
  },
  {
   "cell_type": "code",
   "execution_count": 8,
   "id": "8fa36586",
   "metadata": {},
   "outputs": [
    {
     "data": {
      "text/plain": [
       "<function matplotlib.pyplot.show(close=None, block=None)>"
      ]
     },
     "execution_count": 8,
     "metadata": {},
     "output_type": "execute_result"
    },
    {
     "data": {
      "image/png": "[encoded data removed]",
      "text/plain": [
       "<Figure size 432x288 with 1 Axes>"
      ]
     },
     "metadata": {
      "needs_background": "light"
     },
     "output_type": "display_data"
    }
   ],
   "source": [
    "x = df.index\n",
    "y = df.IVV\n",
    "plt.plot(x,y)\n",
    "plt.title('IVV relative performance')\n",
    "plt.show"
   ]
  },
  {
   "cell_type": "markdown",
   "id": "20bcf0d9",
   "metadata": {},
   "source": [
    "    For IVV, the relative performance is upward in general. Comparing with other ETFs, IVV is relatively stable increasing. However, around 2020, there is a dramatic downward trend. Then, after that period, the return gradually increase. "
   ]
  },
  {
   "cell_type": "code",
   "execution_count": 9,
   "id": "7532fb12",
   "metadata": {},
   "outputs": [
    {
     "data": {
      "image/png": "[encoded data removed]",
      "text/plain": [
       "<Figure size 432x288 with 1 Axes>"
      ]
     },
     "metadata": {
      "needs_background": "light"
     },
     "output_type": "display_data"
    }
   ],
   "source": [
    "x = df.index\n",
    "y = df.GOVT\n",
    "plt.plot(x,y)\n",
    "plt.title('GOVT relative performance')\n",
    "plt.show()\n"
   ]
  },
  {
   "cell_type": "markdown",
   "id": "308916a8",
   "metadata": {},
   "source": [
    "    GOVT has upward trend in general, but it also fluctuates wildly than IVV. Through 2018 to 2020, there is a hugh increasing trend in GOVT, but it also follows by a large decreasing trend in return."
   ]
  },
  {
   "cell_type": "code",
   "execution_count": 10,
   "id": "80f054f9",
   "metadata": {},
   "outputs": [
    {
     "data": {
      "text/plain": [
       "<function matplotlib.pyplot.show(close=None, block=None)>"
      ]
     },
     "execution_count": 10,
     "metadata": {},
     "output_type": "execute_result"
    },
    {
     "data": {
      "image/png": "[encoded data removed]",
      "text/plain": [
       "<Figure size 432x288 with 1 Axes>"
      ]
     },
     "metadata": {
      "needs_background": "light"
     },
     "output_type": "display_data"
    }
   ],
   "source": [
    "x = df.index\n",
    "y = df.IAU\n",
    "plt.plot(x,y)\n",
    "plt.title('IAU relative performance')\n",
    "plt.show"
   ]
  },
  {
   "cell_type": "markdown",
   "id": "f8ec408e",
   "metadata": {},
   "source": [
    "    In the beginning, the performance of IAU is higher than other ETFs. However, after the great performance from the first year, a huge decrease in return. The return continues to weaken until mid-2020. The performance of the last two years is better than before, and maintain the strong performance. "
   ]
  },
  {
   "cell_type": "code",
   "execution_count": 11,
   "id": "62bac148",
   "metadata": {},
   "outputs": [
    {
     "data": {
      "text/plain": [
       "<function matplotlib.pyplot.show(close=None, block=None)>"
      ]
     },
     "execution_count": 11,
     "metadata": {},
     "output_type": "execute_result"
    },
    {
     "data": {
      "image/png": "[encoded data removed]",
      "text/plain": [
       "<Figure size 432x288 with 1 Axes>"
      ]
     },
     "metadata": {
      "needs_background": "light"
     },
     "output_type": "display_data"
    }
   ],
   "source": [
    "x = df.index\n",
    "y = df.HYG\n",
    "plt.plot(x,y)\n",
    "plt.title('HYG relative performance')\n",
    "plt.show"
   ]
  },
  {
   "cell_type": "markdown",
   "id": "fea94c52",
   "metadata": {},
   "source": [
    "    HYG's relative performance is similar of IVV's relative performance. In general, the return of HYG is increasing. However, there is a wild fluctuation during 2015 and 2020. The fluctuation is not as wild as GOVT and IAU, but is higher than IVV. "
   ]
  },
  {
   "cell_type": "code",
   "execution_count": 12,
   "id": "5a62eb10",
   "metadata": {},
   "outputs": [
    {
     "data": {
      "text/plain": [
       "<function matplotlib.pyplot.show(close=None, block=None)>"
      ]
     },
     "execution_count": 12,
     "metadata": {},
     "output_type": "execute_result"
    },
    {
     "data": {
      "image/png": "[encoded data removed]",
      "text/plain": [
       "<Figure size 432x288 with 1 Axes>"
      ]
     },
     "metadata": {
      "needs_background": "light"
     },
     "output_type": "display_data"
    }
   ],
   "source": [
    "x = df.index\n",
    "y = df.EEM\n",
    "plt.plot(x,y)\n",
    "plt.title('EEM relative performance')\n",
    "plt.show"
   ]
  },
  {
   "cell_type": "markdown",
   "id": "53caadad",
   "metadata": {},
   "source": [
    "    In general, the total return index is upward trend. But, it shows several huge increasing trend during this period, which means EEM breakthrough the gloom and achieve higher return. "
   ]
  },
  {
   "cell_type": "markdown",
   "id": "f45321f4",
   "metadata": {},
   "source": [
    "### Compute the covariance matrix and correlation matrix of returns"
   ]
  },
  {
   "cell_type": "code",
   "execution_count": 13,
   "id": "6dfa4819",
   "metadata": {},
   "outputs": [
    {
     "name": "stdout",
     "output_type": "stream",
     "text": [
      "           IVV      GOVT       IAU       HYG       EEM\n",
      "IVV   1.000000  0.871610  0.464877  0.970844  0.851110\n",
      "GOVT  0.871610  1.000000  0.606628  0.867039  0.649418\n",
      "IAU   0.464877  0.606628  1.000000  0.409543  0.561958\n",
      "HYG   0.970844  0.867039  0.409543  1.000000  0.843135\n",
      "EEM   0.851110  0.649418  0.561958  0.843135  1.000000\n"
     ]
    }
   ],
   "source": [
    "corr = df.corr()\n",
    "print(corr)"
   ]
  },
  {
   "cell_type": "code",
   "execution_count": 14,
   "id": "45e1fc1f",
   "metadata": {
    "scrolled": true
   },
   "outputs": [
    {
     "name": "stdout",
     "output_type": "stream",
     "text": [
      "               IVV        GOVT         IAU          HYG         EEM\n",
      "IVV   11948.779169  198.264446  231.205208  1647.275818  724.449124\n",
      "GOVT    198.264446    4.330341    5.743563    28.006227   10.523143\n",
      "IAU     231.205208    5.743563   20.701184    28.923586   19.909581\n",
      "HYG    1647.275818   28.006227   28.923586   240.940747  101.908991\n",
      "EEM     724.449124   10.523143   19.909581   101.908991   60.634631\n"
     ]
    }
   ],
   "source": [
    "cov = df.cov()\n",
    "print(cov)\n",
    "annual_cov = 12*cov"
   ]
  },
  {
   "cell_type": "markdown",
   "id": "6e16e2b3",
   "metadata": {},
   "source": [
    "    Correlation and covariance are statistical tools that measure the relationship between two variables. From covariance, we can see all assest classes are moving in the same direction, which means that one asset has positive return, the other also has the positive return. From the correlation, we can know how strongly one assest moves with the other assest. We can see that IVV has the strongest positive relationship with HYG. It is true, because we can see from the graph, HYG and IVV have similiar growth path. \n",
    "    \n",
    "    IVV and GOVT have a high correlation coefficient; however, the covariance is not as high as IVV to other asset. \n",
    "    \n",
    "    IVV has the highest variance, and GOVT has the lowest variance."
   ]
  },
  {
   "cell_type": "markdown",
   "id": "128e90cd",
   "metadata": {},
   "source": [
    "### Compute the annualized standard deviations"
   ]
  },
  {
   "cell_type": "markdown",
   "id": "611afd02",
   "metadata": {},
   "source": [
    "### var = np.diagonal(cov)\n",
    "volatility = np.sqrt(var)\n",
    "annual_volatility = math.sqrt(12) * volatility\n",
    "print(annual_volatility)"
   ]
  },
  {
   "cell_type": "markdown",
   "id": "bff44350",
   "metadata": {},
   "source": [
    "    IVV has the highest risk, GOVT has the lowest risk."
   ]
  },
  {
   "cell_type": "markdown",
   "id": "d09120a3",
   "metadata": {},
   "source": [
    "## Part two\n"
   ]
  },
  {
   "cell_type": "markdown",
   "id": "6900abfc",
   "metadata": {},
   "source": [
    "### Compute the Global Minimum Variance Portfolio (GMVP)"
   ]
  },
  {
   "cell_type": "code",
   "execution_count": 16,
   "id": "ab0655a9",
   "metadata": {},
   "outputs": [
    {
     "name": "stdout",
     "output_type": "stream",
     "text": [
      "[-0.01301642  1.10739238 -0.19793947 -0.1006474   0.20421091]\n"
     ]
    }
   ],
   "source": [
    "inverse_cov = np.linalg.pinv(annual_cov) #inverse the annual covariance\n",
    "numerator = np.matmul(np.ones(5), inverse_cov)\n",
    "denominator = np.matmul(np.ones(5), np.matmul(inverse_cov,np.ones(5)))\n",
    "w_gmvp = numerator/denominator\n",
    "#weights[weights < 0] = 0\n",
    "#weights = weights/(weights.sum())  #make sure sum of weights is equal to one\n",
    "print(w_gmvp)"
   ]
  },
  {
   "cell_type": "code",
   "execution_count": 17,
   "id": "e8c4efd9",
   "metadata": {
    "scrolled": true
   },
   "outputs": [
    {
     "name": "stdout",
     "output_type": "stream",
     "text": [
      "0.9999999999999998\n"
     ]
    }
   ],
   "source": [
    "sum_of_weights = w_gmvp.sum()\n",
    "print(sum_of_weights)"
   ]
  },
  {
   "cell_type": "code",
   "execution_count": 18,
   "id": "2f048bc8",
   "metadata": {},
   "outputs": [
    {
     "name": "stdout",
     "output_type": "stream",
     "text": [
      "Variance of GMVP is: 4.896033312165007\n",
      "Standard deviation of GMVP is: 2.2126981972616617\n"
     ]
    }
   ],
   "source": [
    "variance_gmvp = 1/denominator #calculate the variance of the return on the GMVP\n",
    "sd_gmvp = np.sqrt(variance_gmvp)# calculate the standard deviation \n",
    "print('Variance of GMVP is: '+str(variance_gmvp))\n",
    "print('Standard deviation of GMVP is: ' + str(sd_gmvp))"
   ]
  },
  {
   "cell_type": "markdown",
   "id": "5495ac3d",
   "metadata": {},
   "source": [
    "1. Sum of weights is equal to one.\n",
    "2. GOVT has the greatest weight, it is intuitive, because the risk of GOVT is the smallest.\n",
    "3. Only holding the asset with the lowest risk will result in lower return than holding a portfolio.\n",
    "4. Variance is 4.896033312165007, standard deviation is 2.2126981972616617."
   ]
  },
  {
   "cell_type": "markdown",
   "id": "a78f1c19",
   "metadata": {},
   "source": [
    "### Compute a Minimum Variance Portfolio (MVP)"
   ]
  },
  {
   "cell_type": "code",
   "execution_count": 19,
   "id": "3bfec4bd",
   "metadata": {},
   "outputs": [
    {
     "name": "stdout",
     "output_type": "stream",
     "text": [
      "[0.06  0.016 0.03  0.032 0.071]\n"
     ]
    }
   ],
   "source": [
    "R = np.array([0.06, 0.016, 0.03, 0.032, 0.071])\n",
    "print(R)"
   ]
  },
  {
   "cell_type": "code",
   "execution_count": 26,
   "id": "3058533b",
   "metadata": {},
   "outputs": [
    {
     "name": "stdout",
     "output_type": "stream",
     "text": [
      "A: 0.00011286192901352273,\n",
      "B: 0.004550084838040274,\n",
      "C: 0.20424697632578076,\n",
      "D: 2.3484357099429434e-06,\n",
      "λ1: 2411.078980904414,\n",
      "λ2: -48.81645786729936\n"
     ]
    }
   ],
   "source": [
    "A = np.sum(R*np.matmul(R, inverse_cov))\n",
    "                             \n",
    "B = np.sum(R*np.matmul(inverse_cov, np.ones(5)))\n",
    "\n",
    "C = np.sum(np.ones(5)*np.matmul(inverse_cov, np.ones(5)))\n",
    "\n",
    "D = A*C-pow(B,2)\n",
    "\n",
    "lamda1 = (C*0.05-B)/D\n",
    "\n",
    "lamda2 = (A-(B*0.05))/D\n",
    "\n",
    "\n",
    "print('A: ' + str(A) + ',\\nB: ' + str(B) + ',\\nC: ' + str(C) + ',\\nD: ' + str(D) + ',\\n\\u03BB1: ' \n",
    "      + str(lamda1) + ',\\n\\u03BB2: ' +str(lamda2))\n"
   ]
  },
  {
   "cell_type": "code",
   "execution_count": 21,
   "id": "6a078a40",
   "metadata": {},
   "outputs": [
    {
     "name": "stdout",
     "output_type": "stream",
     "text": [
      "[-0.03590571  0.65142447 -0.25341843 -0.10367249  0.74157217]\n",
      "0.9999999999999879\n"
     ]
    }
   ],
   "source": [
    "#check weights:\n",
    "w_mvp = lamda1 * np.matmul(inverse_cov, R)+ lamda2*np.matmul(inverse_cov, np.ones(5))\n",
    "print(w_mvp)\n",
    "print(sum(w_mvp))"
   ]
  },
  {
   "cell_type": "code",
   "execution_count": 22,
   "id": "eddf3ade",
   "metadata": {},
   "outputs": [
    {
     "name": "stdout",
     "output_type": "stream",
     "text": [
      "variance of mvp is: 71.73749117792134\n",
      "standard deviation of mvp is: 8.469798768443164\n"
     ]
    }
   ],
   "source": [
    "variance_mvp = (A - 2*B*0.05 + C*pow(0.05,2))/D\n",
    "sd_mvp = np.sqrt(variance_mvp)\n",
    "print('variance of mvp is: ' + str(variance_mvp))\n",
    "print('standard deviation of mvp is: ' + str(sd_mvp))"
   ]
  },
  {
   "cell_type": "markdown",
   "id": "c1e04a96",
   "metadata": {},
   "source": [
    "    1. A: 0.00011286192901352273, \n",
    "       B: 0.004550084838040274,   \n",
    "       C: 0.20424697632578076,\n",
    "       D: 2.3484357099429434e-06,\n",
    "       λ1: 2411.078980904414,\n",
    "       λ2: -48.81645786729936\n",
    "    \n",
    "    2. weight sums to 0.9999999999999879\n",
    "    \n",
    "    3. variance of mvp is: 71.73749117792134\n",
    "       standard deviation of mvp is: 8.469798768443164\n",
    "       \n",
    "    4. GMVP does not have leverage constraint. GMVP is the MVP with the minimum risk and minimum expected return."
   ]
  },
  {
   "cell_type": "markdown",
   "id": "f3ec832c",
   "metadata": {},
   "source": [
    "### “Mutual Fund” Theorem"
   ]
  },
  {
   "cell_type": "code",
   "execution_count": 30,
   "id": "30c24bb7",
   "metadata": {},
   "outputs": [
    {
     "data": {
      "text/plain": [
       "array([-0.03590571,  0.65142447, -0.25341843, -0.10367249,  0.74157217])"
      ]
     },
     "execution_count": 30,
     "metadata": {},
     "output_type": "execute_result"
    }
   ],
   "source": [
    "numerator1 = np.matmul(inverse_cov, R)\n",
    "constant1= numerator1/B\n",
    "\n",
    "numerator2 = lamda1*B*constant1\n",
    "denominator2 = lamda2*C*w_gmvp\n",
    "\n",
    "w_mutualfund =numerator2+denominator2\n",
    "w_mutualfund"
   ]
  },
  {
   "cell_type": "markdown",
   "id": "645ac5f2",
   "metadata": {},
   "source": [
    "    The weights are [-0.03590571,  0.65142447, -0.25341843, -0.10367249,  0.74157217], which are exactly the same as weights of mvp.\n",
    "    From this result, we can see that all portfolios on the minimum variance frontier can be expressed as a linear combination of the GMVP and another riskier portfolio. "
   ]
  },
  {
   "cell_type": "markdown",
   "id": "199dca01",
   "metadata": {},
   "source": [
    "### Compute the Maximum Sharpe Ratio Portfolio (MSRP)"
   ]
  },
  {
   "cell_type": "code",
   "execution_count": 42,
   "id": "f47c4de5",
   "metadata": {},
   "outputs": [
    {
     "data": {
      "text/plain": [
       "array([-0.03441811,  2.30920649, -0.44803535, -0.22132881,  0.58588616])"
      ]
     },
     "execution_count": 42,
     "metadata": {},
     "output_type": "execute_result"
    }
   ],
   "source": [
    "c = R-0.005*np.ones(5)\n",
    "E = np.matmul(np.matmul(c, inverse_cov),c)  #sharpe ratio\n",
    "lamda_msrp = 0.045/E\n",
    "\n",
    "w_msrp = lamda_msrp*np.matmul(inverse_cov, c)\n",
    "w_msrp"
   ]
  },
  {
   "cell_type": "code",
   "execution_count": 45,
   "id": "987f351d",
   "metadata": {},
   "outputs": [
    {
     "name": "stdout",
     "output_type": "stream",
     "text": [
      "Variance of MSRP is: 27.94365536333504\n",
      "Standard deviation of MSRP is: 5.286175873288274\n"
     ]
    }
   ],
   "source": [
    "variance_msrp = pow(lamda_msrp, 2)*E\n",
    "sd_msrp = np.sqrt(variance_msrp)\n",
    "print('Variance of MSRP is: ' + str(variance_msrp) + '\\nStandard deviation of MSRP is: ' + str(sd_msrp))"
   ]
  },
  {
   "cell_type": "code",
   "execution_count": 53,
   "id": "d8afee79",
   "metadata": {},
   "outputs": [
    {
     "name": "stdout",
     "output_type": "stream",
     "text": [
      "Total expected return of MSRP is: 0.05\n",
      "Total expected return of MVP is:0.04999999999999997\n"
     ]
    }
   ],
   "source": [
    "R_msrp = np.sqrt(E)*sd_msrp + 0.005\n",
    "R_msrp #calculate if the total expected return is equal to mvp's\n",
    "R_mvp = np.matmul(R, w_mvp)\n",
    "R_mvp\n",
    "print('Total expected return of MSRP is: ' + str(R_msrp) + '\\nTotal expected return of MVP is:' + str(R_mvp))"
   ]
  },
  {
   "cell_type": "markdown",
   "id": "598a5c66",
   "metadata": {},
   "source": [
    "    1. Weights_MSRP = [-0.03441811,  2.30920649, -0.44803535, -0.22132881,  0.58588616]\n",
    "\n",
    "    2. Comparing with weights of mvp, we can see that the weights of MSRP are greater and the sum of weights_MSRP is greater than one. \n",
    "    The maximum sharpe ratio portfolio only contains risky assets. Conservative investors should hold more \"cash\", while aggressive investors may even borrow cash to increase their return. But, most importantly, both groups should hold long position in the risky portfolio and neither group should alter its composition. \n",
    "    \n",
    "    3. Variance of MSRP is: 27.94365536333504\n",
    "      Standard deviation of MSRP is: 5.286175873288274     \n",
    "      \n",
    "    4. The total expected return of MSRP and MVP is equal   \n",
    "    \n",
    "    5. The standard deviation of MVP is larger than the standard deviation of MSRP, so MSRP is more efficient."
   ]
  },
  {
   "cell_type": "code",
   "execution_count": null,
   "id": "b9fc444d",
   "metadata": {},
   "outputs": [],
   "source": []
  },
  {
   "cell_type": "code",
   "execution_count": null,
   "id": "031a67ab",
   "metadata": {},
   "outputs": [],
   "source": []
  }
 ],
 "metadata": {
  "kernelspec": {
   "display_name": "Python 3 (ipykernel)",
   "language": "python",
   "name": "python3"
  },
  "language_info": {
   "codemirror_mode": {
    "name": "ipython",
    "version": 3
   },
   "file_extension": ".py",
   "mimetype": "text/x-python",
   "name": "python",
   "nbconvert_exporter": "python",
   "pygments_lexer": "ipython3",
   "version": "3.9.7"
  }
 },
 "nbformat": 4,
 "nbformat_minor": 5
}
