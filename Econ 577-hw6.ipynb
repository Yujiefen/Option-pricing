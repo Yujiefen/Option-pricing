{
 "cells": [
  {
   "cell_type": "code",
   "execution_count": 26,
   "id": "a78d932d",
   "metadata": {},
   "outputs": [],
   "source": [
    "import pandas as pd\n",
    "import numpy as np\n",
    "import statsmodels.api as sm"
   ]
  },
  {
   "cell_type": "code",
   "execution_count": 27,
   "id": "a1f4bfba",
   "metadata": {},
   "outputs": [
    {
     "name": "stdout",
     "output_type": "stream",
     "text": [
      "          Date      SPX TR  3M Govt  Div Yield  Real Dividends\n",
      "0          NaT     12.2531   0.0200   0.044580       10.343730\n",
      "1   1940-02-29     12.3344   0.0200   0.045622       10.522553\n",
      "2   1940-03-29     12.4565   0.0200   0.046639       10.688565\n",
      "3   1940-04-30     12.4667   0.0200   0.046930       10.854539\n",
      "4   1940-05-31      9.4804   0.1000   0.055319       11.019718\n",
      "..         ...         ...      ...        ...             ...\n",
      "967 2020-08-31  66127.7115   0.0938   0.017285       59.757033\n",
      "968 2020-09-30  63615.0711   0.0915   0.017476       59.886866\n",
      "969 2020-10-30  61923.3039   0.0864   0.017244       59.957888\n",
      "970 2020-11-30  68701.5448   0.0712   0.016637       59.993094\n",
      "971 2020-12-31  71340.4220   0.0583   0.015991       59.983781\n",
      "\n",
      "[972 rows x 5 columns]\n"
     ]
    }
   ],
   "source": [
    "df = pd.read_excel('/Users/fengyujie/Desktop/hw6.xlsx')\n",
    "print(df)"
   ]
  },
  {
   "cell_type": "markdown",
   "id": "20317bef",
   "metadata": {},
   "source": [
    "# Variance Ratio Test"
   ]
  },
  {
   "cell_type": "code",
   "execution_count": 28,
   "id": "634c2b02",
   "metadata": {},
   "outputs": [
    {
     "data": {
      "text/html": [
       "<div>\n",
       "<style scoped>\n",
       "    .dataframe tbody tr th:only-of-type {\n",
       "        vertical-align: middle;\n",
       "    }\n",
       "\n",
       "    .dataframe tbody tr th {\n",
       "        vertical-align: top;\n",
       "    }\n",
       "\n",
       "    .dataframe thead th {\n",
       "        text-align: right;\n",
       "    }\n",
       "</style>\n",
       "<table border=\"1\" class=\"dataframe\">\n",
       "  <thead>\n",
       "    <tr style=\"text-align: right;\">\n",
       "      <th></th>\n",
       "      <th>Date</th>\n",
       "      <th>spx_tr</th>\n",
       "      <th>3m_govt</th>\n",
       "      <th>div_yield</th>\n",
       "      <th>real_div</th>\n",
       "    </tr>\n",
       "  </thead>\n",
       "  <tbody>\n",
       "    <tr>\n",
       "      <th>0</th>\n",
       "      <td>NaT</td>\n",
       "      <td>12.2531</td>\n",
       "      <td>0.02</td>\n",
       "      <td>0.044580</td>\n",
       "      <td>10.343730</td>\n",
       "    </tr>\n",
       "    <tr>\n",
       "      <th>1</th>\n",
       "      <td>1940-02-29</td>\n",
       "      <td>12.3344</td>\n",
       "      <td>0.02</td>\n",
       "      <td>0.045622</td>\n",
       "      <td>10.522553</td>\n",
       "    </tr>\n",
       "    <tr>\n",
       "      <th>2</th>\n",
       "      <td>1940-03-29</td>\n",
       "      <td>12.4565</td>\n",
       "      <td>0.02</td>\n",
       "      <td>0.046639</td>\n",
       "      <td>10.688565</td>\n",
       "    </tr>\n",
       "    <tr>\n",
       "      <th>3</th>\n",
       "      <td>1940-04-30</td>\n",
       "      <td>12.4667</td>\n",
       "      <td>0.02</td>\n",
       "      <td>0.046930</td>\n",
       "      <td>10.854539</td>\n",
       "    </tr>\n",
       "    <tr>\n",
       "      <th>4</th>\n",
       "      <td>1940-05-31</td>\n",
       "      <td>9.4804</td>\n",
       "      <td>0.10</td>\n",
       "      <td>0.055319</td>\n",
       "      <td>11.019718</td>\n",
       "    </tr>\n",
       "  </tbody>\n",
       "</table>\n",
       "</div>"
      ],
      "text/plain": [
       "        Date   spx_tr  3m_govt  div_yield   real_div\n",
       "0        NaT  12.2531     0.02   0.044580  10.343730\n",
       "1 1940-02-29  12.3344     0.02   0.045622  10.522553\n",
       "2 1940-03-29  12.4565     0.02   0.046639  10.688565\n",
       "3 1940-04-30  12.4667     0.02   0.046930  10.854539\n",
       "4 1940-05-31   9.4804     0.10   0.055319  11.019718"
      ]
     },
     "execution_count": 28,
     "metadata": {},
     "output_type": "execute_result"
    }
   ],
   "source": [
    "df = df.rename(columns={\"Date\": \"Date\", \"SPX TR\": \"spx_tr\", \n",
    "                   \"3M Govt\": \"3m_govt\", \"Div Yield\": \"div_yield\", \"Real Dividends\": \"real_div\"})\n",
    "df.head()\n"
   ]
  },
  {
   "cell_type": "code",
   "execution_count": 29,
   "id": "599cb9b2",
   "metadata": {
    "scrolled": false
   },
   "outputs": [
    {
     "name": "stderr",
     "output_type": "stream",
     "text": [
      "/Users/fengyujie/opt/anaconda3/lib/python3.9/site-packages/pandas/core/arraylike.py:397: RuntimeWarning: divide by zero encountered in log\n",
      "  result = getattr(ufunc, method)(*inputs, **kwargs)\n",
      "/Users/fengyujie/opt/anaconda3/lib/python3.9/site-packages/pandas/core/arraylike.py:397: RuntimeWarning: invalid value encountered in log\n",
      "  result = getattr(ufunc, method)(*inputs, **kwargs)\n"
     ]
    },
    {
     "data": {
      "text/html": [
       "<div>\n",
       "<style scoped>\n",
       "    .dataframe tbody tr th:only-of-type {\n",
       "        vertical-align: middle;\n",
       "    }\n",
       "\n",
       "    .dataframe tbody tr th {\n",
       "        vertical-align: top;\n",
       "    }\n",
       "\n",
       "    .dataframe thead th {\n",
       "        text-align: right;\n",
       "    }\n",
       "</style>\n",
       "<table border=\"1\" class=\"dataframe\">\n",
       "  <thead>\n",
       "    <tr style=\"text-align: right;\">\n",
       "      <th></th>\n",
       "      <th>Date</th>\n",
       "      <th>spx_tr</th>\n",
       "      <th>3m_govt</th>\n",
       "      <th>div_yield</th>\n",
       "      <th>real_div</th>\n",
       "      <th>lg_spx_tr</th>\n",
       "      <th>lg_3m_govt</th>\n",
       "      <th>lg_excess_return</th>\n",
       "    </tr>\n",
       "  </thead>\n",
       "  <tbody>\n",
       "    <tr>\n",
       "      <th>0</th>\n",
       "      <td>NaT</td>\n",
       "      <td>12.2531</td>\n",
       "      <td>0.02</td>\n",
       "      <td>0.044580</td>\n",
       "      <td>10.343730</td>\n",
       "      <td>2.505779</td>\n",
       "      <td>-3.912023</td>\n",
       "      <td>6.417802</td>\n",
       "    </tr>\n",
       "    <tr>\n",
       "      <th>1</th>\n",
       "      <td>1940-02-29</td>\n",
       "      <td>12.3344</td>\n",
       "      <td>0.02</td>\n",
       "      <td>0.045622</td>\n",
       "      <td>10.522553</td>\n",
       "      <td>2.512392</td>\n",
       "      <td>-3.912023</td>\n",
       "      <td>6.424415</td>\n",
       "    </tr>\n",
       "    <tr>\n",
       "      <th>2</th>\n",
       "      <td>1940-03-29</td>\n",
       "      <td>12.4565</td>\n",
       "      <td>0.02</td>\n",
       "      <td>0.046639</td>\n",
       "      <td>10.688565</td>\n",
       "      <td>2.522243</td>\n",
       "      <td>-3.912023</td>\n",
       "      <td>6.434266</td>\n",
       "    </tr>\n",
       "    <tr>\n",
       "      <th>3</th>\n",
       "      <td>1940-04-30</td>\n",
       "      <td>12.4667</td>\n",
       "      <td>0.02</td>\n",
       "      <td>0.046930</td>\n",
       "      <td>10.854539</td>\n",
       "      <td>2.523061</td>\n",
       "      <td>-3.912023</td>\n",
       "      <td>6.435084</td>\n",
       "    </tr>\n",
       "    <tr>\n",
       "      <th>4</th>\n",
       "      <td>1940-05-31</td>\n",
       "      <td>9.4804</td>\n",
       "      <td>0.10</td>\n",
       "      <td>0.055319</td>\n",
       "      <td>11.019718</td>\n",
       "      <td>2.249227</td>\n",
       "      <td>-2.302585</td>\n",
       "      <td>4.551812</td>\n",
       "    </tr>\n",
       "  </tbody>\n",
       "</table>\n",
       "</div>"
      ],
      "text/plain": [
       "        Date   spx_tr  3m_govt  div_yield   real_div  lg_spx_tr  lg_3m_govt  \\\n",
       "0        NaT  12.2531     0.02   0.044580  10.343730   2.505779   -3.912023   \n",
       "1 1940-02-29  12.3344     0.02   0.045622  10.522553   2.512392   -3.912023   \n",
       "2 1940-03-29  12.4565     0.02   0.046639  10.688565   2.522243   -3.912023   \n",
       "3 1940-04-30  12.4667     0.02   0.046930  10.854539   2.523061   -3.912023   \n",
       "4 1940-05-31   9.4804     0.10   0.055319  11.019718   2.249227   -2.302585   \n",
       "\n",
       "   lg_excess_return  \n",
       "0          6.417802  \n",
       "1          6.424415  \n",
       "2          6.434266  \n",
       "3          6.435084  \n",
       "4          4.551812  "
      ]
     },
     "execution_count": 29,
     "metadata": {},
     "output_type": "execute_result"
    }
   ],
   "source": [
    "df['lg_spx_tr'] = np.log(df['spx_tr'])\n",
    "df['lg_3m_govt'] = np.log(df['3m_govt'])\n",
    "df['lg_excess_return'] = df['lg_spx_tr'] - df['lg_3m_govt']\n",
    "df.head()\n"
   ]
  },
  {
   "cell_type": "code",
   "execution_count": 30,
   "id": "526bcff4",
   "metadata": {
    "scrolled": true
   },
   "outputs": [
    {
     "data": {
      "text/html": [
       "<div>\n",
       "<style scoped>\n",
       "    .dataframe tbody tr th:only-of-type {\n",
       "        vertical-align: middle;\n",
       "    }\n",
       "\n",
       "    .dataframe tbody tr th {\n",
       "        vertical-align: top;\n",
       "    }\n",
       "\n",
       "    .dataframe thead th {\n",
       "        text-align: right;\n",
       "    }\n",
       "</style>\n",
       "<table border=\"1\" class=\"dataframe\">\n",
       "  <thead>\n",
       "    <tr style=\"text-align: right;\">\n",
       "      <th></th>\n",
       "      <th>variance ratio</th>\n",
       "    </tr>\n",
       "  </thead>\n",
       "  <tbody>\n",
       "    <tr>\n",
       "      <th>1948</th>\n",
       "      <td>1.000000</td>\n",
       "    </tr>\n",
       "    <tr>\n",
       "      <th>1949</th>\n",
       "      <td>0.901279</td>\n",
       "    </tr>\n",
       "    <tr>\n",
       "      <th>1950</th>\n",
       "      <td>0.838306</td>\n",
       "    </tr>\n",
       "    <tr>\n",
       "      <th>1952</th>\n",
       "      <td>0.505766</td>\n",
       "    </tr>\n",
       "    <tr>\n",
       "      <th>1954</th>\n",
       "      <td>3.212217</td>\n",
       "    </tr>\n",
       "    <tr>\n",
       "      <th>1957</th>\n",
       "      <td>2.185096</td>\n",
       "    </tr>\n",
       "  </tbody>\n",
       "</table>\n",
       "</div>"
      ],
      "text/plain": [
       "      variance ratio\n",
       "1948        1.000000\n",
       "1949        0.901279\n",
       "1950        0.838306\n",
       "1952        0.505766\n",
       "1954        3.212217\n",
       "1957        2.185096"
      ]
     },
     "execution_count": 30,
     "metadata": {},
     "output_type": "execute_result"
    }
   ],
   "source": [
    "var1 = statistics.variance(df['lg_excess_return'].loc[99:110])\n",
    "var2 = statistics.variance(df['lg_excess_return'].loc[99:122])\n",
    "var3 = statistics.variance(df['lg_excess_return'].loc[99:134])\n",
    "var4 = statistics.variance(df['lg_excess_return'].loc[99:146])\n",
    "var5 = statistics.variance(df['lg_excess_return'].loc[99:158])\n",
    "var6 = statistics.variance(df['lg_excess_return'].loc[99:170])\n",
    "var7 = statistics.variance(df['lg_excess_return'].loc[99:182])\n",
    "var8 = statistics.variance(df['lg_excess_return'].loc[99:194])\n",
    "var9 = statistics.variance(df['lg_excess_return'].loc[99:206])\n",
    "var10 = statistics.variance(df['lg_excess_return'].loc[99:218])\n",
    "variance = [var1, var2, var3, var4, var5, var6, var7, var8, var9, var10]\n",
    "\n",
    "variance_ratio_output = pd.DataFrame()\n",
    "\n",
    "for t in np.arange(0,10):\n",
    "    variance_ratio = variance[t]/((t+1)*var1)\n",
    "    variance_ratio_output[t] = [round(variance_ratio, 6)]\n",
    "\n",
    "variance_ratio_output = variance_ratio_output.rename(columns= {0:\"1948\", 1:\"1949\", 2:\"1950\", 3:\"1951\", 4:\"1952\", 5:\"1953\", 6:\"1954\",7:\"1955\",8:\"1956\", 9:\"1957\"},\n",
    "                            index={0: \"variance ratio\"})\n",
    "\n",
    "variance_ratio_output\n",
    "\n",
    "\n",
    "d = {'variance ratio': [1.0, 0.901279, 0.838306, 0.505766, 3.212217, 2.185096]}\n",
    "\n",
    "variance_ratio_test = pd.DataFrame(data = d, index = ['1948', '1949', '1950', '1952', '1954', '1957'])\n",
    "\n",
    "variance_ratio_test"
   ]
  },
  {
   "cell_type": "markdown",
   "id": "a36b87c7",
   "metadata": {},
   "source": [
    "# Test Statistical Significance "
   ]
  },
  {
   "cell_type": "code",
   "execution_count": 31,
   "id": "04fb45c1",
   "metadata": {},
   "outputs": [
    {
     "name": "stderr",
     "output_type": "stream",
     "text": [
      "/var/folders/ry/0pcs2mmn24g1hyj6q9gm05lr0000gn/T/ipykernel_23447/4043931109.py:5: RuntimeWarning: invalid value encountered in double_scalars\n",
      "  z_stat = (jrq/((2*((t+1)-1))**0.5))*(n**0.5)\n"
     ]
    },
    {
     "data": {
      "text/html": [
       "<div>\n",
       "<style scoped>\n",
       "    .dataframe tbody tr th:only-of-type {\n",
       "        vertical-align: middle;\n",
       "    }\n",
       "\n",
       "    .dataframe tbody tr th {\n",
       "        vertical-align: top;\n",
       "    }\n",
       "\n",
       "    .dataframe thead th {\n",
       "        text-align: right;\n",
       "    }\n",
       "</style>\n",
       "<table border=\"1\" class=\"dataframe\">\n",
       "  <thead>\n",
       "    <tr style=\"text-align: right;\">\n",
       "      <th></th>\n",
       "      <th>0</th>\n",
       "      <th>1</th>\n",
       "      <th>2</th>\n",
       "      <th>3</th>\n",
       "      <th>4</th>\n",
       "      <th>5</th>\n",
       "      <th>6</th>\n",
       "      <th>7</th>\n",
       "      <th>8</th>\n",
       "      <th>9</th>\n",
       "    </tr>\n",
       "  </thead>\n",
       "  <tbody>\n",
       "    <tr>\n",
       "      <th>z statistics</th>\n",
       "      <td>NaN</td>\n",
       "      <td>-0.220747</td>\n",
       "      <td>-0.25566</td>\n",
       "      <td>-0.410915</td>\n",
       "      <td>-0.55257</td>\n",
       "      <td>0.034391</td>\n",
       "      <td>2.019468</td>\n",
       "      <td>1.616257</td>\n",
       "      <td>1.088561</td>\n",
       "      <td>0.883318</td>\n",
       "    </tr>\n",
       "  </tbody>\n",
       "</table>\n",
       "</div>"
      ],
      "text/plain": [
       "               0         1        2         3        4         5         6  \\\n",
       "z statistics NaN -0.220747 -0.25566 -0.410915 -0.55257  0.034391  2.019468   \n",
       "\n",
       "                     7         8         9  \n",
       "z statistics  1.616257  1.088561  0.883318  "
      ]
     },
     "execution_count": 31,
     "metadata": {},
     "output_type": "execute_result"
    }
   ],
   "source": [
    "n = len(variance)\n",
    "test_stat = pd.DataFrame()\n",
    "for t in np.arange(0,10):\n",
    "    jrq = variance[t]/((t+1)*var1) -1\n",
    "    z_stat = (jrq/((2*((t+1)-1))**0.5))*(n**0.5)\n",
    "    test_stat[t] = [round(z_stat, 6)]\n",
    "test_stat = test_stat.rename(index= {0: 'z statistics'})\n",
    "test_stat\n",
    "\n"
   ]
  },
  {
   "cell_type": "code",
   "execution_count": 32,
   "id": "b9e3f4f7",
   "metadata": {},
   "outputs": [
    {
     "name": "stdout",
     "output_type": "stream",
     "text": [
      "do not reject the null\n",
      "do not reject the null\n",
      "do not reject the null\n",
      "do not reject the null\n",
      "do not reject the null\n",
      "do not reject the null\n",
      "reject the null\n",
      "reject the null\n",
      "reject the null\n",
      "do not reject the null\n"
     ]
    }
   ],
   "source": [
    "\n",
    "for t in np.arange(0,10):\n",
    "    if (test_stat[t] > 0.97725).bool():\n",
    "        print('reject the null')\n",
    "    else:\n",
    "        print('do not reject the null')\n",
    "        "
   ]
  },
  {
   "cell_type": "markdown",
   "id": "91002568",
   "metadata": {},
   "source": [
    "     For vairance ratio calculated in problem 1:\n",
    "     Horizon of 1: 1948 --- Do not reject the null, indicating there is no mean reversion;\n",
    "     Horizon of 2: 1949 --- Do not reject the null, indicating there is no mean reversion;\n",
    "     Horizon of 3: 1950 --- Do not reject the null, indicating there is no mean reversion;\n",
    "     Horizon of 5: 1952 --- Do not reject the null, indicating there is no mean reversion;\n",
    "     Horizon of 7: 1954 --- Reject the null, indicating there is mean reversion;\n",
    "     Horizon of 10: 1957 --- Do not reject the null, indicating there is no mean-reversion."
   ]
  },
  {
   "cell_type": "markdown",
   "id": "2f015b31",
   "metadata": {},
   "source": [
    "# Equity Return / Dividend Growth Predictability\n"
   ]
  },
  {
   "cell_type": "markdown",
   "id": "f2c6def3",
   "metadata": {},
   "source": [
    "## Regress $R_{t,\\ t+k}$"
   ]
  },
  {
   "cell_type": "markdown",
   "id": "b2afffa8",
   "metadata": {},
   "source": [
    "### Year One"
   ]
  },
  {
   "cell_type": "code",
   "execution_count": 44,
   "id": "0099a295",
   "metadata": {
    "scrolled": true
   },
   "outputs": [
    {
     "name": "stdout",
     "output_type": "stream",
     "text": [
      "                            OLS Regression Results                            \n",
      "==============================================================================\n",
      "Dep. Variable:                      y   R-squared:                       0.886\n",
      "Model:                            OLS   Adj. R-squared:                  0.873\n",
      "Method:                 Least Squares   F-statistic:                     69.77\n",
      "Date:                Thu, 27 Oct 2022   Prob (F-statistic):           1.57e-05\n",
      "Time:                        17:26:48   Log-Likelihood:                 23.085\n",
      "No. Observations:                  11   AIC:                            -42.17\n",
      "Df Residuals:                       9   BIC:                            -41.37\n",
      "Df Model:                           1                                         \n",
      "Covariance Type:            nonrobust                                         \n",
      "==============================================================================\n",
      "                 coef    std err          t      P>|t|      [0.025      0.975]\n",
      "------------------------------------------------------------------------------\n",
      "const          4.5560      0.168     27.190      0.000       4.177       4.935\n",
      "x1           -26.1949      3.136     -8.353      0.000     -33.289     -19.101\n",
      "==============================================================================\n",
      "Omnibus:                        0.780   Durbin-Watson:                   1.027\n",
      "Prob(Omnibus):                  0.677   Jarque-Bera (JB):                0.698\n",
      "Skew:                          -0.395   Prob(JB):                        0.706\n",
      "Kurtosis:                       2.053   Cond. No.                         318.\n",
      "==============================================================================\n",
      "\n",
      "Notes:\n",
      "[1] Standard Errors assume that the covariance matrix of the errors is correctly specified.\n"
     ]
    },
    {
     "name": "stderr",
     "output_type": "stream",
     "text": [
      "/Users/fengyujie/opt/anaconda3/lib/python3.9/site-packages/scipy/stats/stats.py:1541: UserWarning: kurtosistest only valid for n>=20 ... continuing anyway, n=11\n",
      "  warnings.warn(\"kurtosistest only valid for n>=20 ... continuing \"\n"
     ]
    }
   ],
   "source": [
    "x = df['div_yield'].iloc[99:110].tolist()\n",
    "y = df['lg_excess_return'].iloc[99:110].tolist()\n",
    "x = sm.add_constant(x)\n",
    "result = sm.OLS(y,x).fit()\n",
    "print(result.summary())"
   ]
  },
  {
   "cell_type": "markdown",
   "id": "5756211b",
   "metadata": {},
   "source": [
    "### Year Two"
   ]
  },
  {
   "cell_type": "code",
   "execution_count": 45,
   "id": "48936340",
   "metadata": {},
   "outputs": [
    {
     "name": "stdout",
     "output_type": "stream",
     "text": [
      "                            OLS Regression Results                            \n",
      "==============================================================================\n",
      "Dep. Variable:                      y   R-squared:                       0.163\n",
      "Model:                            OLS   Adj. R-squared:                  0.070\n",
      "Method:                 Least Squares   F-statistic:                     1.753\n",
      "Date:                Thu, 27 Oct 2022   Prob (F-statistic):              0.218\n",
      "Time:                        17:27:03   Log-Likelihood:                 8.0296\n",
      "No. Observations:                  11   AIC:                            -12.06\n",
      "Df Residuals:                       9   BIC:                            -11.26\n",
      "Df Model:                           1                                         \n",
      "Covariance Type:            nonrobust                                         \n",
      "==============================================================================\n",
      "                 coef    std err          t      P>|t|      [0.025      0.975]\n",
      "------------------------------------------------------------------------------\n",
      "const          5.3309      1.585      3.364      0.008       1.746       8.915\n",
      "x1           -33.8640     25.575     -1.324      0.218     -91.719      23.991\n",
      "==============================================================================\n",
      "Omnibus:                        4.275   Durbin-Watson:                   0.324\n",
      "Prob(Omnibus):                  0.118   Jarque-Bera (JB):                2.336\n",
      "Skew:                          -1.126   Prob(JB):                        0.311\n",
      "Kurtosis:                       2.843   Cond. No.                         660.\n",
      "==============================================================================\n",
      "\n",
      "Notes:\n",
      "[1] Standard Errors assume that the covariance matrix of the errors is correctly specified.\n"
     ]
    },
    {
     "name": "stderr",
     "output_type": "stream",
     "text": [
      "/Users/fengyujie/opt/anaconda3/lib/python3.9/site-packages/scipy/stats/stats.py:1541: UserWarning: kurtosistest only valid for n>=20 ... continuing anyway, n=11\n",
      "  warnings.warn(\"kurtosistest only valid for n>=20 ... continuing \"\n"
     ]
    }
   ],
   "source": [
    "x = df['div_yield'].iloc[111:122].tolist()\n",
    "y = df['lg_excess_return'].iloc[111:122].tolist()\n",
    "x = sm.add_constant(x)\n",
    "result = sm.OLS(y,x).fit()\n",
    "print(result.summary())"
   ]
  },
  {
   "cell_type": "markdown",
   "id": "86b3d436",
   "metadata": {},
   "source": [
    "### Year Three"
   ]
  },
  {
   "cell_type": "code",
   "execution_count": 46,
   "id": "bab5ca78",
   "metadata": {},
   "outputs": [
    {
     "name": "stdout",
     "output_type": "stream",
     "text": [
      "                            OLS Regression Results                            \n",
      "==============================================================================\n",
      "Dep. Variable:                      y   R-squared:                       0.200\n",
      "Model:                            OLS   Adj. R-squared:                  0.111\n",
      "Method:                 Least Squares   F-statistic:                     2.245\n",
      "Date:                Thu, 27 Oct 2022   Prob (F-statistic):              0.168\n",
      "Time:                        17:27:18   Log-Likelihood:                 19.790\n",
      "No. Observations:                  11   AIC:                            -35.58\n",
      "Df Residuals:                       9   BIC:                            -34.78\n",
      "Df Model:                           1                                         \n",
      "Covariance Type:            nonrobust                                         \n",
      "==============================================================================\n",
      "                 coef    std err          t      P>|t|      [0.025      0.975]\n",
      "------------------------------------------------------------------------------\n",
      "const          4.1328      0.481      8.590      0.000       3.044       5.221\n",
      "x1           -11.8674      7.921     -1.498      0.168     -29.786       6.051\n",
      "==============================================================================\n",
      "Omnibus:                        1.112   Durbin-Watson:                   1.347\n",
      "Prob(Omnibus):                  0.573   Jarque-Bera (JB):                0.745\n",
      "Skew:                           0.264   Prob(JB):                        0.689\n",
      "Kurtosis:                       1.839   Cond. No.                         596.\n",
      "==============================================================================\n",
      "\n",
      "Notes:\n",
      "[1] Standard Errors assume that the covariance matrix of the errors is correctly specified.\n"
     ]
    },
    {
     "name": "stderr",
     "output_type": "stream",
     "text": [
      "/Users/fengyujie/opt/anaconda3/lib/python3.9/site-packages/scipy/stats/stats.py:1541: UserWarning: kurtosistest only valid for n>=20 ... continuing anyway, n=11\n",
      "  warnings.warn(\"kurtosistest only valid for n>=20 ... continuing \"\n"
     ]
    }
   ],
   "source": [
    "x = df['div_yield'].iloc[123:134].tolist()\n",
    "y = df['lg_excess_return'].iloc[123:134].tolist()\n",
    "x = sm.add_constant(x)\n",
    "result = sm.OLS(y,x).fit()\n",
    "print(result.summary())"
   ]
  },
  {
   "cell_type": "markdown",
   "id": "aa63da65",
   "metadata": {},
   "source": [
    "### Year Five"
   ]
  },
  {
   "cell_type": "code",
   "execution_count": 47,
   "id": "17c9b79e",
   "metadata": {},
   "outputs": [
    {
     "name": "stdout",
     "output_type": "stream",
     "text": [
      "                            OLS Regression Results                            \n",
      "==============================================================================\n",
      "Dep. Variable:                      y   R-squared:                       0.249\n",
      "Model:                            OLS   Adj. R-squared:                  0.166\n",
      "Method:                 Least Squares   F-statistic:                     2.984\n",
      "Date:                Thu, 27 Oct 2022   Prob (F-statistic):              0.118\n",
      "Time:                        17:27:58   Log-Likelihood:                 17.115\n",
      "No. Observations:                  11   AIC:                            -30.23\n",
      "Df Residuals:                       9   BIC:                            -29.43\n",
      "Df Model:                           1                                         \n",
      "Covariance Type:            nonrobust                                         \n",
      "==============================================================================\n",
      "                 coef    std err          t      P>|t|      [0.025      0.975]\n",
      "------------------------------------------------------------------------------\n",
      "const          2.7641      0.387      7.139      0.000       1.888       3.640\n",
      "x1            11.4694      6.640      1.727      0.118      -3.550      26.489\n",
      "==============================================================================\n",
      "Omnibus:                        3.362   Durbin-Watson:                   2.501\n",
      "Prob(Omnibus):                  0.186   Jarque-Bera (JB):                1.257\n",
      "Skew:                           0.815   Prob(JB):                        0.533\n",
      "Kurtosis:                       3.292   Cond. No.                         391.\n",
      "==============================================================================\n",
      "\n",
      "Notes:\n",
      "[1] Standard Errors assume that the covariance matrix of the errors is correctly specified.\n"
     ]
    },
    {
     "name": "stderr",
     "output_type": "stream",
     "text": [
      "/Users/fengyujie/opt/anaconda3/lib/python3.9/site-packages/scipy/stats/stats.py:1541: UserWarning: kurtosistest only valid for n>=20 ... continuing anyway, n=11\n",
      "  warnings.warn(\"kurtosistest only valid for n>=20 ... continuing \"\n"
     ]
    }
   ],
   "source": [
    "x = df['div_yield'].iloc[147:158].tolist()\n",
    "y = df['lg_excess_return'].iloc[147:158].tolist()\n",
    "x = sm.add_constant(x)\n",
    "result = sm.OLS(y,x).fit()\n",
    "print(result.summary())"
   ]
  },
  {
   "cell_type": "markdown",
   "id": "23843ea1",
   "metadata": {},
   "source": [
    "### Year Seven"
   ]
  },
  {
   "cell_type": "code",
   "execution_count": 48,
   "id": "6e2a044c",
   "metadata": {},
   "outputs": [
    {
     "name": "stdout",
     "output_type": "stream",
     "text": [
      "                            OLS Regression Results                            \n",
      "==============================================================================\n",
      "Dep. Variable:                      y   R-squared:                       0.281\n",
      "Model:                            OLS   Adj. R-squared:                  0.201\n",
      "Method:                 Least Squares   F-statistic:                     3.513\n",
      "Date:                Thu, 27 Oct 2022   Prob (F-statistic):             0.0936\n",
      "Time:                        17:28:31   Log-Likelihood:                 7.8322\n",
      "No. Observations:                  11   AIC:                            -11.66\n",
      "Df Residuals:                       9   BIC:                            -10.87\n",
      "Df Model:                           1                                         \n",
      "Covariance Type:            nonrobust                                         \n",
      "==============================================================================\n",
      "                 coef    std err          t      P>|t|      [0.025      0.975]\n",
      "------------------------------------------------------------------------------\n",
      "const          3.5283      0.499      7.072      0.000       2.400       4.657\n",
      "x1            20.2782     10.818      1.874      0.094      -4.195      44.751\n",
      "==============================================================================\n",
      "Omnibus:                        0.218   Durbin-Watson:                   1.550\n",
      "Prob(Omnibus):                  0.897   Jarque-Bera (JB):                0.390\n",
      "Skew:                          -0.172   Prob(JB):                        0.823\n",
      "Kurtosis:                       2.145   Cond. No.                         274.\n",
      "==============================================================================\n",
      "\n",
      "Notes:\n",
      "[1] Standard Errors assume that the covariance matrix of the errors is correctly specified.\n"
     ]
    },
    {
     "name": "stderr",
     "output_type": "stream",
     "text": [
      "/Users/fengyujie/opt/anaconda3/lib/python3.9/site-packages/scipy/stats/stats.py:1541: UserWarning: kurtosistest only valid for n>=20 ... continuing anyway, n=11\n",
      "  warnings.warn(\"kurtosistest only valid for n>=20 ... continuing \"\n"
     ]
    }
   ],
   "source": [
    "x = df['div_yield'].iloc[171:182].tolist()\n",
    "y = df['lg_excess_return'].iloc[171:182].tolist()\n",
    "x = sm.add_constant(x)\n",
    "result = sm.OLS(y,x).fit()\n",
    "print(result.summary())"
   ]
  },
  {
   "cell_type": "markdown",
   "id": "a19c3aa1",
   "metadata": {},
   "source": [
    "### Year Ten"
   ]
  },
  {
   "cell_type": "code",
   "execution_count": 49,
   "id": "f3b2c4a9",
   "metadata": {},
   "outputs": [
    {
     "name": "stdout",
     "output_type": "stream",
     "text": [
      "                            OLS Regression Results                            \n",
      "==============================================================================\n",
      "Dep. Variable:                      y   R-squared:                       0.120\n",
      "Model:                            OLS   Adj. R-squared:                  0.022\n",
      "Method:                 Least Squares   F-statistic:                     1.224\n",
      "Date:                Thu, 27 Oct 2022   Prob (F-statistic):              0.297\n",
      "Time:                        17:32:16   Log-Likelihood:                -2.2661\n",
      "No. Observations:                  11   AIC:                             8.532\n",
      "Df Residuals:                       9   BIC:                             9.328\n",
      "Df Model:                           1                                         \n",
      "Covariance Type:            nonrobust                                         \n",
      "==============================================================================\n",
      "                 coef    std err          t      P>|t|      [0.025      0.975]\n",
      "------------------------------------------------------------------------------\n",
      "const          1.9843      1.639      1.211      0.257      -1.724       5.692\n",
      "x1            44.9267     40.615      1.106      0.297     -46.952     136.805\n",
      "==============================================================================\n",
      "Omnibus:                        2.748   Durbin-Watson:                   0.575\n",
      "Prob(Omnibus):                  0.253   Jarque-Bera (JB):                1.324\n",
      "Skew:                           0.847   Prob(JB):                        0.516\n",
      "Kurtosis:                       2.876   Cond. No.                         410.\n",
      "==============================================================================\n",
      "\n",
      "Notes:\n",
      "[1] Standard Errors assume that the covariance matrix of the errors is correctly specified.\n"
     ]
    },
    {
     "name": "stderr",
     "output_type": "stream",
     "text": [
      "/Users/fengyujie/opt/anaconda3/lib/python3.9/site-packages/scipy/stats/stats.py:1541: UserWarning: kurtosistest only valid for n>=20 ... continuing anyway, n=11\n",
      "  warnings.warn(\"kurtosistest only valid for n>=20 ... continuing \"\n"
     ]
    }
   ],
   "source": [
    "x = df['div_yield'].iloc[207:218].tolist()\n",
    "y = df['lg_excess_return'].iloc[207:218].tolist()\n",
    "x = sm.add_constant(x)\n",
    "result = sm.OLS(y,x).fit()\n",
    "print(result.summary())"
   ]
  },
  {
   "cell_type": "markdown",
   "id": "705e5db0",
   "metadata": {},
   "source": [
    "### Conclusion\n",
    "    Year1:\n",
    "$$\n",
    "    R_1 = 4.556 - 26.1949\\ (\\frac{D}{P})_1\\\\\n",
    "    R^2 = 0.886,\\ \n",
    "    t-stats = -8.353\n",
    "$$\n",
    "    \n",
    "    Year 2:\n",
    "$$\n",
    "    R_2 = 5.3309 - 33.864\\ (\\frac{D}{P})_2\\\\\n",
    "    R^2 = 0.163,\\ \n",
    "    t-stats = -1.324\n",
    "$$\n",
    "\n",
    "    Year 3:\n",
    "$$\n",
    "    R_3 = 4.1328 - 11.8674\\ (\\frac{D}{P})_3\\\\\n",
    "    R^2 = 0.2,\\ \n",
    "    t-stats = -1.498\n",
    "$$\n",
    "\n",
    "    Year 5:\n",
    "$$\n",
    "    R_5 = 2.7641 + 11.4694\\ (\\frac{D}{P})_5\\\\\n",
    "    R^2 = 0.249,\\ \n",
    "    t-stats = 1.727\n",
    "$$\n",
    "\n",
    "    Year 7:\n",
    "$$\n",
    "    R_7 = 3.528 + 20.2782\\ (\\frac{D}{P})_7\\\\\n",
    "    R^2 = 0.281,\\ \n",
    "    t-stats = 1.874\n",
    "$$\n",
    "\n",
    "    Year 10:\n",
    "$$\n",
    "    R_{10} = 1.9843 + 144.9267\\ (\\frac{D}{P})_{10}\\\\\n",
    "    R^2 = 0.12,\\ \n",
    "    t-stats = 1.106\n",
    "$$"
   ]
  },
  {
   "cell_type": "markdown",
   "id": "dcc86d5e",
   "metadata": {},
   "source": [
    "    From the above OLS regression, we can see that for year 1 to year 3 dividend yields have negative correlation with real excess return. The negative relationship indicating when price increase, real return will increase as well. However, for the following years, dividend yields have positive correlation with real excess return. The positive correlation indicates when price goes up, real return will go down. "
   ]
  },
  {
   "cell_type": "markdown",
   "id": "975aa502",
   "metadata": {},
   "source": [
    "## Regress $ d_{t,\\ t+k} $ "
   ]
  },
  {
   "cell_type": "code",
   "execution_count": 85,
   "id": "48d899ce",
   "metadata": {},
   "outputs": [],
   "source": [
    "df['real_growth_rate_div'] = (np.log(df['real_div'])).pct_change()"
   ]
  },
  {
   "cell_type": "markdown",
   "id": "8c64bca0",
   "metadata": {},
   "source": [
    "### Year 1:"
   ]
  },
  {
   "cell_type": "code",
   "execution_count": 86,
   "id": "2d4d396a",
   "metadata": {},
   "outputs": [
    {
     "name": "stdout",
     "output_type": "stream",
     "text": [
      "                            OLS Regression Results                            \n",
      "==============================================================================\n",
      "Dep. Variable:                      y   R-squared:                       0.202\n",
      "Model:                            OLS   Adj. R-squared:                  0.113\n",
      "Method:                 Least Squares   F-statistic:                     2.274\n",
      "Date:                Thu, 27 Oct 2022   Prob (F-statistic):              0.166\n",
      "Time:                        20:25:35   Log-Likelihood:                 60.134\n",
      "No. Observations:                  11   AIC:                            -116.3\n",
      "Df Residuals:                       9   BIC:                            -115.5\n",
      "Df Model:                           1                                         \n",
      "Covariance Type:            nonrobust                                         \n",
      "==============================================================================\n",
      "                 coef    std err          t      P>|t|      [0.025      0.975]\n",
      "------------------------------------------------------------------------------\n",
      "const         -0.0068      0.006     -1.175      0.270      -0.020       0.006\n",
      "x1             0.1629      0.108      1.508      0.166      -0.082       0.407\n",
      "==============================================================================\n",
      "Omnibus:                        0.888   Durbin-Watson:                   0.432\n",
      "Prob(Omnibus):                  0.642   Jarque-Bera (JB):                0.751\n",
      "Skew:                           0.499   Prob(JB):                        0.687\n",
      "Kurtosis:                       2.198   Cond. No.                         318.\n",
      "==============================================================================\n",
      "\n",
      "Notes:\n",
      "[1] Standard Errors assume that the covariance matrix of the errors is correctly specified.\n"
     ]
    },
    {
     "name": "stderr",
     "output_type": "stream",
     "text": [
      "/Users/fengyujie/opt/anaconda3/lib/python3.9/site-packages/scipy/stats/stats.py:1541: UserWarning: kurtosistest only valid for n>=20 ... continuing anyway, n=11\n",
      "  warnings.warn(\"kurtosistest only valid for n>=20 ... continuing \"\n"
     ]
    }
   ],
   "source": [
    "x = df['div_yield'].iloc[99:110].tolist()\n",
    "y = df['real_growth_rate_div'].iloc[99:110].tolist()\n",
    "x = sm.add_constant(x)\n",
    "result = sm.OLS(y,x).fit()\n",
    "print(result.summary())"
   ]
  },
  {
   "cell_type": "markdown",
   "id": "96cdadf6",
   "metadata": {},
   "source": [
    "### Year 2:\n"
   ]
  },
  {
   "cell_type": "code",
   "execution_count": 87,
   "id": "9570da4d",
   "metadata": {},
   "outputs": [
    {
     "name": "stdout",
     "output_type": "stream",
     "text": [
      "                            OLS Regression Results                            \n",
      "==============================================================================\n",
      "Dep. Variable:                      y   R-squared:                       0.000\n",
      "Model:                            OLS   Adj. R-squared:                 -0.111\n",
      "Method:                 Least Squares   F-statistic:                  0.002897\n",
      "Date:                Thu, 27 Oct 2022   Prob (F-statistic):              0.958\n",
      "Time:                        20:25:42   Log-Likelihood:                 61.901\n",
      "No. Observations:                  11   AIC:                            -119.8\n",
      "Df Residuals:                       9   BIC:                            -119.0\n",
      "Df Model:                           1                                         \n",
      "Covariance Type:            nonrobust                                         \n",
      "==============================================================================\n",
      "                 coef    std err          t      P>|t|      [0.025      0.975]\n",
      "------------------------------------------------------------------------------\n",
      "const          0.0063      0.012      0.530      0.609      -0.020       0.033\n",
      "x1             0.0103      0.191      0.054      0.958      -0.422       0.442\n",
      "==============================================================================\n",
      "Omnibus:                        6.020   Durbin-Watson:                   0.320\n",
      "Prob(Omnibus):                  0.049   Jarque-Bera (JB):                2.838\n",
      "Skew:                          -1.226   Prob(JB):                        0.242\n",
      "Kurtosis:                       3.424   Cond. No.                         660.\n",
      "==============================================================================\n",
      "\n",
      "Notes:\n",
      "[1] Standard Errors assume that the covariance matrix of the errors is correctly specified.\n"
     ]
    },
    {
     "name": "stderr",
     "output_type": "stream",
     "text": [
      "/Users/fengyujie/opt/anaconda3/lib/python3.9/site-packages/scipy/stats/stats.py:1541: UserWarning: kurtosistest only valid for n>=20 ... continuing anyway, n=11\n",
      "  warnings.warn(\"kurtosistest only valid for n>=20 ... continuing \"\n"
     ]
    }
   ],
   "source": [
    "x = df['div_yield'].iloc[111:122].tolist()\n",
    "y = df['real_growth_rate_div'].iloc[111:122].tolist()\n",
    "x = sm.add_constant(x)\n",
    "result = sm.OLS(y,x).fit()\n",
    "print(result.summary())"
   ]
  },
  {
   "cell_type": "markdown",
   "id": "af2bf601",
   "metadata": {},
   "source": [
    "### Year 3:"
   ]
  },
  {
   "cell_type": "code",
   "execution_count": 88,
   "id": "843bf850",
   "metadata": {},
   "outputs": [
    {
     "name": "stdout",
     "output_type": "stream",
     "text": [
      "                            OLS Regression Results                            \n",
      "==============================================================================\n",
      "Dep. Variable:                      y   R-squared:                       0.016\n",
      "Model:                            OLS   Adj. R-squared:                 -0.094\n",
      "Method:                 Least Squares   F-statistic:                    0.1423\n",
      "Date:                Thu, 27 Oct 2022   Prob (F-statistic):              0.715\n",
      "Time:                        20:25:43   Log-Likelihood:                 66.723\n",
      "No. Observations:                  11   AIC:                            -129.4\n",
      "Df Residuals:                       9   BIC:                            -128.6\n",
      "Df Model:                           1                                         \n",
      "Covariance Type:            nonrobust                                         \n",
      "==============================================================================\n",
      "                 coef    std err          t      P>|t|      [0.025      0.975]\n",
      "------------------------------------------------------------------------------\n",
      "const          0.0088      0.007      1.310      0.223      -0.006       0.024\n",
      "x1            -0.0419      0.111     -0.377      0.715      -0.293       0.209\n",
      "==============================================================================\n",
      "Omnibus:                        1.634   Durbin-Watson:                   0.720\n",
      "Prob(Omnibus):                  0.442   Jarque-Bera (JB):                0.889\n",
      "Skew:                           0.300   Prob(JB):                        0.641\n",
      "Kurtosis:                       1.743   Cond. No.                         596.\n",
      "==============================================================================\n",
      "\n",
      "Notes:\n",
      "[1] Standard Errors assume that the covariance matrix of the errors is correctly specified.\n"
     ]
    },
    {
     "name": "stderr",
     "output_type": "stream",
     "text": [
      "/Users/fengyujie/opt/anaconda3/lib/python3.9/site-packages/scipy/stats/stats.py:1541: UserWarning: kurtosistest only valid for n>=20 ... continuing anyway, n=11\n",
      "  warnings.warn(\"kurtosistest only valid for n>=20 ... continuing \"\n"
     ]
    }
   ],
   "source": [
    "x = df['div_yield'].iloc[123:134].tolist()\n",
    "y = df['real_growth_rate_div'].iloc[123:134].tolist()\n",
    "x = sm.add_constant(x)\n",
    "result = sm.OLS(y,x).fit()\n",
    "print(result.summary())"
   ]
  },
  {
   "cell_type": "markdown",
   "id": "ae863ea8",
   "metadata": {},
   "source": [
    "### Year 5:"
   ]
  },
  {
   "cell_type": "code",
   "execution_count": 89,
   "id": "6c0d0927",
   "metadata": {},
   "outputs": [
    {
     "name": "stdout",
     "output_type": "stream",
     "text": [
      "                            OLS Regression Results                            \n",
      "==============================================================================\n",
      "Dep. Variable:                      y   R-squared:                       0.580\n",
      "Model:                            OLS   Adj. R-squared:                  0.533\n",
      "Method:                 Least Squares   F-statistic:                     12.43\n",
      "Date:                Thu, 27 Oct 2022   Prob (F-statistic):            0.00645\n",
      "Time:                        20:25:43   Log-Likelihood:                 64.400\n",
      "No. Observations:                  11   AIC:                            -124.8\n",
      "Df Residuals:                       9   BIC:                            -124.0\n",
      "Df Model:                           1                                         \n",
      "Covariance Type:            nonrobust                                         \n",
      "==============================================================================\n",
      "                 coef    std err          t      P>|t|      [0.025      0.975]\n",
      "------------------------------------------------------------------------------\n",
      "const          0.0165      0.005      3.135      0.012       0.005       0.028\n",
      "x1            -0.3181      0.090     -3.526      0.006      -0.522      -0.114\n",
      "==============================================================================\n",
      "Omnibus:                        1.160   Durbin-Watson:                   0.485\n",
      "Prob(Omnibus):                  0.560   Jarque-Bera (JB):                0.875\n",
      "Skew:                          -0.454   Prob(JB):                        0.646\n",
      "Kurtosis:                       1.958   Cond. No.                         391.\n",
      "==============================================================================\n",
      "\n",
      "Notes:\n",
      "[1] Standard Errors assume that the covariance matrix of the errors is correctly specified.\n"
     ]
    },
    {
     "name": "stderr",
     "output_type": "stream",
     "text": [
      "/Users/fengyujie/opt/anaconda3/lib/python3.9/site-packages/scipy/stats/stats.py:1541: UserWarning: kurtosistest only valid for n>=20 ... continuing anyway, n=11\n",
      "  warnings.warn(\"kurtosistest only valid for n>=20 ... continuing \"\n"
     ]
    }
   ],
   "source": [
    "x = df['div_yield'].iloc[147:158].tolist()\n",
    "y = df['real_growth_rate_div'].iloc[147:158].tolist()\n",
    "x = sm.add_constant(x)\n",
    "result = sm.OLS(y,x).fit()\n",
    "print(result.summary())"
   ]
  },
  {
   "cell_type": "markdown",
   "id": "f1c42e75",
   "metadata": {},
   "source": [
    "### Year 7:"
   ]
  },
  {
   "cell_type": "code",
   "execution_count": 90,
   "id": "267a49ab",
   "metadata": {},
   "outputs": [
    {
     "name": "stdout",
     "output_type": "stream",
     "text": [
      "                            OLS Regression Results                            \n",
      "==============================================================================\n",
      "Dep. Variable:                      y   R-squared:                       0.749\n",
      "Model:                            OLS   Adj. R-squared:                  0.721\n",
      "Method:                 Least Squares   F-statistic:                     26.87\n",
      "Date:                Thu, 27 Oct 2022   Prob (F-statistic):           0.000577\n",
      "Time:                        20:25:44   Log-Likelihood:                 74.263\n",
      "No. Observations:                  11   AIC:                            -144.5\n",
      "Df Residuals:                       9   BIC:                            -143.7\n",
      "Df Model:                           1                                         \n",
      "Covariance Type:            nonrobust                                         \n",
      "==============================================================================\n",
      "                 coef    std err          t      P>|t|      [0.025      0.975]\n",
      "------------------------------------------------------------------------------\n",
      "const          0.0074      0.001      6.199      0.000       0.005       0.010\n",
      "x1            -0.1337      0.026     -5.184      0.001      -0.192      -0.075\n",
      "==============================================================================\n",
      "Omnibus:                        0.153   Durbin-Watson:                   0.596\n",
      "Prob(Omnibus):                  0.926   Jarque-Bera (JB):                0.329\n",
      "Skew:                           0.188   Prob(JB):                        0.848\n",
      "Kurtosis:                       2.241   Cond. No.                         274.\n",
      "==============================================================================\n",
      "\n",
      "Notes:\n",
      "[1] Standard Errors assume that the covariance matrix of the errors is correctly specified.\n"
     ]
    },
    {
     "name": "stderr",
     "output_type": "stream",
     "text": [
      "/Users/fengyujie/opt/anaconda3/lib/python3.9/site-packages/scipy/stats/stats.py:1541: UserWarning: kurtosistest only valid for n>=20 ... continuing anyway, n=11\n",
      "  warnings.warn(\"kurtosistest only valid for n>=20 ... continuing \"\n"
     ]
    }
   ],
   "source": [
    "x = df['div_yield'].iloc[171:182].tolist()\n",
    "y = df['real_growth_rate_div'].iloc[171:182].tolist()\n",
    "x = sm.add_constant(x)\n",
    "result = sm.OLS(y,x).fit()\n",
    "print(result.summary())"
   ]
  },
  {
   "cell_type": "markdown",
   "id": "e5d9e019",
   "metadata": {},
   "source": [
    "### Year 10:"
   ]
  },
  {
   "cell_type": "code",
   "execution_count": 91,
   "id": "b5991499",
   "metadata": {},
   "outputs": [
    {
     "name": "stdout",
     "output_type": "stream",
     "text": [
      "                            OLS Regression Results                            \n",
      "==============================================================================\n",
      "Dep. Variable:                      y   R-squared:                       0.260\n",
      "Model:                            OLS   Adj. R-squared:                  0.177\n",
      "Method:                 Least Squares   F-statistic:                     3.155\n",
      "Date:                Thu, 27 Oct 2022   Prob (F-statistic):              0.109\n",
      "Time:                        20:25:44   Log-Likelihood:                 64.706\n",
      "No. Observations:                  11   AIC:                            -125.4\n",
      "Df Residuals:                       9   BIC:                            -124.6\n",
      "Df Model:                           1                                         \n",
      "Covariance Type:            nonrobust                                         \n",
      "==============================================================================\n",
      "                 coef    std err          t      P>|t|      [0.025      0.975]\n",
      "------------------------------------------------------------------------------\n",
      "const         -0.0080      0.004     -2.164      0.059      -0.016       0.000\n",
      "x1             0.1637      0.092      1.776      0.109      -0.045       0.372\n",
      "==============================================================================\n",
      "Omnibus:                        0.262   Durbin-Watson:                   0.502\n",
      "Prob(Omnibus):                  0.877   Jarque-Bera (JB):                0.415\n",
      "Skew:                          -0.193   Prob(JB):                        0.813\n",
      "Kurtosis:                       2.130   Cond. No.                         410.\n",
      "==============================================================================\n",
      "\n",
      "Notes:\n",
      "[1] Standard Errors assume that the covariance matrix of the errors is correctly specified.\n"
     ]
    },
    {
     "name": "stderr",
     "output_type": "stream",
     "text": [
      "/Users/fengyujie/opt/anaconda3/lib/python3.9/site-packages/scipy/stats/stats.py:1541: UserWarning: kurtosistest only valid for n>=20 ... continuing anyway, n=11\n",
      "  warnings.warn(\"kurtosistest only valid for n>=20 ... continuing \"\n"
     ]
    }
   ],
   "source": [
    "x = df['div_yield'].iloc[207:218].tolist()\n",
    "y = df['real_growth_rate_div'].iloc[207:218].tolist()\n",
    "x = sm.add_constant(x)\n",
    "result = sm.OLS(y,x).fit()\n",
    "print(result.summary())"
   ]
  },
  {
   "cell_type": "markdown",
   "id": "7c2a1aee",
   "metadata": {},
   "source": [
    "### Conclusion:\n",
    "\n",
    "    Year 1:\n",
    "$$\n",
    "    d_1 = -0.0068 + 0.1629\\ (\\frac{D}{P})_1\\\\\n",
    "    R^2 = 0.202,\\ t-stats = 1.508\n",
    "$$\n",
    "    \n",
    "    Year 2:\n",
    "$$\n",
    "    d_2 = 0.0063 + 0.0103\\ (\\frac{D}{P})_2\\\\\n",
    "    R^2 = 0,\\ t-stats = 0.054\n",
    "$$\n",
    "\n",
    "    Year 3:\n",
    "$$\n",
    "    d_3 = 0.0088 - 0.0419\\ (\\frac{D}{P})_3\\\\\n",
    "    R^2 = 0.016,\\ t-stats = -0.377\n",
    "$$\n",
    "\n",
    "    Year 5:\n",
    "$$\n",
    "    d_5 = 0.0165 - 0.3181\\ (\\frac{D}{P})_5\\\\\n",
    "    R^2 = 0.58,\\ t-stats = -3.526\n",
    "$$\n",
    "\n",
    "    Year 7:\n",
    "$$\n",
    "    d_7 = 0.0074 - 0.1337\\ (\\frac{D}{P})_7\\\\\n",
    "    R^2 = 0.749,\\ t-stats = -5.184\n",
    "$$\n",
    "\n",
    "    Year 10:\n",
    "$$\n",
    "    d_{10} = -0.008 + 0.1637\\ (\\frac{D}{P})_{10}\\\\\n",
    "    R^2 = 0.26,\\ t-stats = 1.1776\n",
    "$$"
   ]
  },
  {
   "cell_type": "markdown",
   "id": "9000f420",
   "metadata": {},
   "source": [
    "    In year 1, 2 and 3, log real growth rate of dividends has a positive relationship with dividend yield. However, in year 2, the R^2 is 0; therefore, the result from year 2 is invalid. The positive relationship of y and x indicates when price increases, real growth rate of dividend will decrease. \n",
    "    In year 3, 5 and 7, log real growth rate of dividends has negative relationship with dividend yield. The negative realtionship indicates when price increases, real growth rate of dividend will decrease. \n",
    "    In theory, when "
   ]
  },
  {
   "cell_type": "code",
   "execution_count": null,
   "id": "8b4269da",
   "metadata": {},
   "outputs": [],
   "source": []
  }
 ],
 "metadata": {
  "kernelspec": {
   "display_name": "Python 3 (ipykernel)",
   "language": "python",
   "name": "python3"
  },
  "language_info": {
   "codemirror_mode": {
    "name": "ipython",
    "version": 3
   },
   "file_extension": ".py",
   "mimetype": "text/x-python",
   "name": "python",
   "nbconvert_exporter": "python",
   "pygments_lexer": "ipython3",
   "version": "3.9.7"
  }
 },
 "nbformat": 4,
 "nbformat_minor": 5
}
